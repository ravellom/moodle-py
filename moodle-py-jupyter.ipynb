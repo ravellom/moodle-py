{
 "cells": [
  {
   "cell_type": "code",
   "execution_count": 10,
   "id": "537127f2-9c14-4214-8c2a-29232e81d2fd",
   "metadata": {},
   "outputs": [
    {
     "data": {
      "text/plain": [
       "Index(['Hora', 'Nombre completo del usuario', 'Usuario afectado',\n",
       "       'Contexto del evento', 'Componente', 'Nombre evento', 'Descripción',\n",
       "       'Origen', 'Dirección IP'],\n",
       "      dtype='object')"
      ]
     },
     "execution_count": 10,
     "metadata": {},
     "output_type": "execute_result"
    }
   ],
   "source": [
    "import pandas as pd\n",
    "from os import listdir\n",
    "import glob\n",
    "from glob import iglob\n",
    "import seaborn as sns\n",
    "\n",
    "path = r'D:/Databases/moodle_test/*.csv'\n",
    "\n",
    "df = pd.concat((pd.read_csv(f) for f in iglob(path, recursive=True)), ignore_index=True)\n",
    "\n",
    "df.head()\n",
    "\n",
    "df.columns"
   ]
  },
  {
   "cell_type": "code",
   "execution_count": 21,
   "id": "cd04043d-69ab-483f-8fac-750324e35bdd",
   "metadata": {},
   "outputs": [
    {
     "data": {
      "text/html": [
       "<div>\n",
       "<style scoped>\n",
       "    .dataframe tbody tr th:only-of-type {\n",
       "        vertical-align: middle;\n",
       "    }\n",
       "\n",
       "    .dataframe tbody tr th {\n",
       "        vertical-align: top;\n",
       "    }\n",
       "\n",
       "    .dataframe thead th {\n",
       "        text-align: right;\n",
       "    }\n",
       "</style>\n",
       "<table border=\"1\" class=\"dataframe\">\n",
       "  <thead>\n",
       "    <tr style=\"text-align: right;\">\n",
       "      <th>Origen</th>\n",
       "      <th>web</th>\n",
       "      <th>ws</th>\n",
       "    </tr>\n",
       "    <tr>\n",
       "      <th>Componente</th>\n",
       "      <th></th>\n",
       "      <th></th>\n",
       "    </tr>\n",
       "  </thead>\n",
       "  <tbody>\n",
       "    <tr>\n",
       "      <th>Actividad del curso</th>\n",
       "      <td>2</td>\n",
       "      <td>0</td>\n",
       "    </tr>\n",
       "    <tr>\n",
       "      <th>Archivos enviados</th>\n",
       "      <td>58</td>\n",
       "      <td>8</td>\n",
       "    </tr>\n",
       "    <tr>\n",
       "      <th>Carpeta</th>\n",
       "      <td>213</td>\n",
       "      <td>57</td>\n",
       "    </tr>\n",
       "    <tr>\n",
       "      <th>Chat</th>\n",
       "      <td>97</td>\n",
       "      <td>11</td>\n",
       "    </tr>\n",
       "    <tr>\n",
       "      <th>Comentarios de la entrega</th>\n",
       "      <td>5</td>\n",
       "      <td>0</td>\n",
       "    </tr>\n",
       "    <tr>\n",
       "      <th>Cuestionario</th>\n",
       "      <td>359</td>\n",
       "      <td>63</td>\n",
       "    </tr>\n",
       "    <tr>\n",
       "      <th>Foro</th>\n",
       "      <td>2762</td>\n",
       "      <td>571</td>\n",
       "    </tr>\n",
       "    <tr>\n",
       "      <th>Glosario</th>\n",
       "      <td>560</td>\n",
       "      <td>134</td>\n",
       "    </tr>\n",
       "    <tr>\n",
       "      <th>Informe del calificador</th>\n",
       "      <td>2</td>\n",
       "      <td>0</td>\n",
       "    </tr>\n",
       "    <tr>\n",
       "      <th>Informe general</th>\n",
       "      <td>5</td>\n",
       "      <td>0</td>\n",
       "    </tr>\n",
       "    <tr>\n",
       "      <th>Libro</th>\n",
       "      <td>181</td>\n",
       "      <td>67</td>\n",
       "    </tr>\n",
       "    <tr>\n",
       "      <th>Participación en el curso</th>\n",
       "      <td>4</td>\n",
       "      <td>0</td>\n",
       "    </tr>\n",
       "    <tr>\n",
       "      <th>Recurso</th>\n",
       "      <td>216</td>\n",
       "      <td>17</td>\n",
       "    </tr>\n",
       "    <tr>\n",
       "      <th>Registros</th>\n",
       "      <td>1</td>\n",
       "      <td>0</td>\n",
       "    </tr>\n",
       "    <tr>\n",
       "      <th>Sistema</th>\n",
       "      <td>3080</td>\n",
       "      <td>250</td>\n",
       "    </tr>\n",
       "    <tr>\n",
       "      <th>Tarea</th>\n",
       "      <td>1321</td>\n",
       "      <td>95</td>\n",
       "    </tr>\n",
       "    <tr>\n",
       "      <th>URL</th>\n",
       "      <td>180</td>\n",
       "      <td>53</td>\n",
       "    </tr>\n",
       "    <tr>\n",
       "      <th>Usuario</th>\n",
       "      <td>53</td>\n",
       "      <td>5</td>\n",
       "    </tr>\n",
       "  </tbody>\n",
       "</table>\n",
       "</div>"
      ],
      "text/plain": [
       "Origen                      web   ws\n",
       "Componente                          \n",
       "Actividad del curso           2    0\n",
       "Archivos enviados            58    8\n",
       "Carpeta                     213   57\n",
       "Chat                         97   11\n",
       "Comentarios de la entrega     5    0\n",
       "Cuestionario                359   63\n",
       "Foro                       2762  571\n",
       "Glosario                    560  134\n",
       "Informe del calificador       2    0\n",
       "Informe general               5    0\n",
       "Libro                       181   67\n",
       "Participación en el curso     4    0\n",
       "Recurso                     216   17\n",
       "Registros                     1    0\n",
       "Sistema                    3080  250\n",
       "Tarea                      1321   95\n",
       "URL                         180   53\n",
       "Usuario                      53    5"
      ]
     },
     "execution_count": 21,
     "metadata": {},
     "output_type": "execute_result"
    }
   ],
   "source": [
    "df.shape\n",
    "df.quantile(.5)\n",
    "df.Componente.value_counts()\n",
    "pd.crosstab(df.Componente,df.Origen)"
   ]
  },
  {
   "cell_type": "code",
   "execution_count": 16,
   "id": "04b013a0-3d57-469f-bfe7-7eba41d8569a",
   "metadata": {
    "tags": []
   },
   "outputs": [
    {
     "data": {
      "text/html": [
       "<div>\n",
       "<style scoped>\n",
       "    .dataframe tbody tr th:only-of-type {\n",
       "        vertical-align: middle;\n",
       "    }\n",
       "\n",
       "    .dataframe tbody tr th {\n",
       "        vertical-align: top;\n",
       "    }\n",
       "\n",
       "    .dataframe thead th {\n",
       "        text-align: right;\n",
       "    }\n",
       "</style>\n",
       "<table border=\"1\" class=\"dataframe\">\n",
       "  <thead>\n",
       "    <tr style=\"text-align: right;\">\n",
       "      <th></th>\n",
       "      <th>Hora</th>\n",
       "      <th>Nombre completo del usuario</th>\n",
       "      <th>Usuario afectado</th>\n",
       "      <th>Contexto del evento</th>\n",
       "      <th>Componente</th>\n",
       "      <th>Nombre evento</th>\n",
       "      <th>Descripción</th>\n",
       "      <th>Origen</th>\n",
       "      <th>Dirección IP</th>\n",
       "      <th>datefull</th>\n",
       "      <th>year</th>\n",
       "      <th>month</th>\n",
       "      <th>day</th>\n",
       "      <th>hour</th>\n",
       "    </tr>\n",
       "  </thead>\n",
       "  <tbody>\n",
       "    <tr>\n",
       "      <th>0</th>\n",
       "      <td>29/05/2021 23:56</td>\n",
       "      <td>Prof. Raidell Avello Martínez</td>\n",
       "      <td>-</td>\n",
       "      <td>Curso: Tecnología Educativa</td>\n",
       "      <td>Registros</td>\n",
       "      <td>Informe de registros visto</td>\n",
       "      <td>The user with id '1059' viewed the log report ...</td>\n",
       "      <td>web</td>\n",
       "      <td>172.25.0.1</td>\n",
       "      <td>2021-05-29 23:56:00</td>\n",
       "      <td>2021</td>\n",
       "      <td>5</td>\n",
       "      <td>29</td>\n",
       "      <td>23</td>\n",
       "    </tr>\n",
       "    <tr>\n",
       "      <th>1</th>\n",
       "      <td>29/05/2021 23:55</td>\n",
       "      <td>Prof. Raidell Avello Martínez</td>\n",
       "      <td>-</td>\n",
       "      <td>Curso: Tecnología Educativa</td>\n",
       "      <td>Sistema</td>\n",
       "      <td>Curso visto</td>\n",
       "      <td>The user with id '1059' viewed the course with...</td>\n",
       "      <td>web</td>\n",
       "      <td>172.25.0.1</td>\n",
       "      <td>2021-05-29 23:55:00</td>\n",
       "      <td>2021</td>\n",
       "      <td>5</td>\n",
       "      <td>29</td>\n",
       "      <td>23</td>\n",
       "    </tr>\n",
       "    <tr>\n",
       "      <th>2</th>\n",
       "      <td>29/05/2021 23:53</td>\n",
       "      <td>Edward Medilahaxon Pina</td>\n",
       "      <td>-</td>\n",
       "      <td>Foro: Foro del Tema 2: El diseño instruccional...</td>\n",
       "      <td>Foro</td>\n",
       "      <td>Módulo de curso visto</td>\n",
       "      <td>The user with id '2529' viewed the 'forum' act...</td>\n",
       "      <td>web</td>\n",
       "      <td>172.25.0.1</td>\n",
       "      <td>2021-05-29 23:53:00</td>\n",
       "      <td>2021</td>\n",
       "      <td>5</td>\n",
       "      <td>29</td>\n",
       "      <td>23</td>\n",
       "    </tr>\n",
       "    <tr>\n",
       "      <th>3</th>\n",
       "      <td>29/05/2021 23:43</td>\n",
       "      <td>Daymi Martinez Rodriguez</td>\n",
       "      <td>-</td>\n",
       "      <td>Curso: Tecnología Educativa</td>\n",
       "      <td>Sistema</td>\n",
       "      <td>Curso visto</td>\n",
       "      <td>The user with id '1895' viewed the course with...</td>\n",
       "      <td>web</td>\n",
       "      <td>172.25.0.1</td>\n",
       "      <td>2021-05-29 23:43:00</td>\n",
       "      <td>2021</td>\n",
       "      <td>5</td>\n",
       "      <td>29</td>\n",
       "      <td>23</td>\n",
       "    </tr>\n",
       "    <tr>\n",
       "      <th>4</th>\n",
       "      <td>29/05/2021 23:42</td>\n",
       "      <td>Daymi Martinez Rodriguez</td>\n",
       "      <td>-</td>\n",
       "      <td>Tarea: Tarea 2</td>\n",
       "      <td>Tarea</td>\n",
       "      <td>Se ha visualizado el estado de la entrega.</td>\n",
       "      <td>The user with id '1895' has viewed the submiss...</td>\n",
       "      <td>web</td>\n",
       "      <td>172.25.0.1</td>\n",
       "      <td>2021-05-29 23:42:00</td>\n",
       "      <td>2021</td>\n",
       "      <td>5</td>\n",
       "      <td>29</td>\n",
       "      <td>23</td>\n",
       "    </tr>\n",
       "  </tbody>\n",
       "</table>\n",
       "</div>"
      ],
      "text/plain": [
       "               Hora    Nombre completo del usuario Usuario afectado  \\\n",
       "0  29/05/2021 23:56  Prof. Raidell Avello Martínez                -   \n",
       "1  29/05/2021 23:55  Prof. Raidell Avello Martínez                -   \n",
       "2  29/05/2021 23:53        Edward Medilahaxon Pina                -   \n",
       "3  29/05/2021 23:43       Daymi Martinez Rodriguez                -   \n",
       "4  29/05/2021 23:42       Daymi Martinez Rodriguez                -   \n",
       "\n",
       "                                 Contexto del evento Componente  \\\n",
       "0                        Curso: Tecnología Educativa  Registros   \n",
       "1                        Curso: Tecnología Educativa    Sistema   \n",
       "2  Foro: Foro del Tema 2: El diseño instruccional...       Foro   \n",
       "3                        Curso: Tecnología Educativa    Sistema   \n",
       "4                                     Tarea: Tarea 2      Tarea   \n",
       "\n",
       "                                Nombre evento  \\\n",
       "0                  Informe de registros visto   \n",
       "1                                 Curso visto   \n",
       "2                       Módulo de curso visto   \n",
       "3                                 Curso visto   \n",
       "4  Se ha visualizado el estado de la entrega.   \n",
       "\n",
       "                                         Descripción Origen Dirección IP  \\\n",
       "0  The user with id '1059' viewed the log report ...    web   172.25.0.1   \n",
       "1  The user with id '1059' viewed the course with...    web   172.25.0.1   \n",
       "2  The user with id '2529' viewed the 'forum' act...    web   172.25.0.1   \n",
       "3  The user with id '1895' viewed the course with...    web   172.25.0.1   \n",
       "4  The user with id '1895' has viewed the submiss...    web   172.25.0.1   \n",
       "\n",
       "             datefull  year  month  day  hour  \n",
       "0 2021-05-29 23:56:00  2021      5   29    23  \n",
       "1 2021-05-29 23:55:00  2021      5   29    23  \n",
       "2 2021-05-29 23:53:00  2021      5   29    23  \n",
       "3 2021-05-29 23:43:00  2021      5   29    23  \n",
       "4 2021-05-29 23:42:00  2021      5   29    23  "
      ]
     },
     "execution_count": 16,
     "metadata": {},
     "output_type": "execute_result"
    }
   ],
   "source": [
    "# extraer fecha\n",
    "\n",
    "df['datefull'] = pd.to_datetime(df['Hora'])\n",
    "\n",
    "# Date\n",
    "df['year']= df['datefull'].dt.year\n",
    "df['month']= df['datefull'].dt.month\n",
    "df['day']= df['datefull'].dt.day\n",
    "\n",
    "# Time\n",
    "df['hour']= df['datefull'].dt.hour\n",
    "\n",
    "df.head(5)"
   ]
  },
  {
   "cell_type": "code",
   "execution_count": 15,
   "id": "28a9684a-606c-4cdc-bea3-980650fcc91b",
   "metadata": {
    "tags": []
   },
   "outputs": [
    {
     "data": {
      "text/plain": [
       "Curso: Tecnología Educativa                                                               2973\n",
       "Foro: Foro del Tema 2: El diseño instruccional de cursos en línea                         1252\n",
       "Tarea: Tarea 1: Introducción a la Educación en Línea                                       948\n",
       "Foro: Foro del tema 1: Introducción a la Educación en Línea                                898\n",
       "Glosario: Glosario del curso                                                               704\n",
       "Foro: Foro de novedades, anuncios y dudas                                                  685\n",
       "Tarea: Tarea 2                                                                             490\n",
       "Cuestionario: Cuestionario de autoevaluación sobre diseño didáctico de cursos en línea     438\n",
       "Foro: Presentación de los participantes                                                    395\n",
       "Libro: El diseño instruccional de cursos en línea (Libro digital)                          258\n",
       "Name: Contexto del evento, dtype: int64"
      ]
     },
     "execution_count": 15,
     "metadata": {},
     "output_type": "execute_result"
    }
   ],
   "source": [
    "df_contexto = df['Contexto del evento'].value_counts()\n",
    "df_contexto.head(10)"
   ]
  },
  {
   "cell_type": "code",
   "execution_count": 18,
   "id": "6f7ece84-7404-4371-a8ae-5c3582f3d616",
   "metadata": {},
   "outputs": [
    {
     "data": {
      "text/plain": [
       "<AxesSubplot:>"
      ]
     },
     "execution_count": 18,
     "metadata": {},
     "output_type": "execute_result"
    },
    {
     "data": {
      "image/png": "[encoded data removed]",
      "text/plain": [
       "<Figure size 1008x432 with 1 Axes>"
      ]
     },
     "metadata": {
      "needs_background": "light"
     },
     "output_type": "display_data"
    }
   ],
   "source": [
    "df_contexto.head(10).plot(kind='bar', figsize=(14,6))"
   ]
  },
  {
   "cell_type": "code",
   "execution_count": 11,
   "id": "14c42a26-4364-4b09-9f07-a01304ae778c",
   "metadata": {},
   "outputs": [
    {
     "data": {
      "text/plain": [
       "Index(['Nombre completo del usuario'], dtype='object')"
      ]
     },
     "execution_count": 11,
     "metadata": {},
     "output_type": "execute_result"
    }
   ],
   "source": [
    "df_usuario = df.groupby('Nombre completo del usuario')['Nombre completo del usuario'].count()\n",
    "\n",
    "df_new = pd.DataFrame(df_usuario)\n",
    "df_new.columns\n"
   ]
  },
  {
   "cell_type": "code",
   "execution_count": 12,
   "id": "caff429d-e82b-41cb-8ae2-734ae06503eb",
   "metadata": {},
   "outputs": [
    {
     "data": {
      "text/plain": [
       "<AxesSubplot:xlabel='Nombre completo del usuario'>"
      ]
     },
     "execution_count": 12,
     "metadata": {},
     "output_type": "execute_result"
    },
    {
     "data": {
      "image/png": "[encoded data removed]",
      "text/plain": [
       "<Figure size 1008x432 with 1 Axes>"
      ]
     },
     "metadata": {},
     "output_type": "display_data"
    }
   ],
   "source": [
    "import seaborn as sns; sns.set(style='darkgrid')\n",
    "df_usuario.head(10).plot(kind='bar', figsize=(14,6), xlabel='Nombre completo del usuario')"
   ]
  },
  {
   "cell_type": "code",
   "execution_count": null,
   "id": "93b9e41f-0a50-4a06-aee5-9df28f9a084a",
   "metadata": {},
   "outputs": [],
   "source": []
  },
  {
   "cell_type": "code",
   "execution_count": 13,
   "id": "ce8ee625-a45f-4eac-97c2-f2d5e55da2a6",
   "metadata": {},
   "outputs": [
    {
     "data": {
      "text/html": [
       "<div>\n",
       "<style scoped>\n",
       "    .dataframe tbody tr th:only-of-type {\n",
       "        vertical-align: middle;\n",
       "    }\n",
       "\n",
       "    .dataframe tbody tr th {\n",
       "        vertical-align: top;\n",
       "    }\n",
       "\n",
       "    .dataframe thead th {\n",
       "        text-align: right;\n",
       "    }\n",
       "</style>\n",
       "<table border=\"1\" class=\"dataframe\">\n",
       "  <thead>\n",
       "    <tr style=\"text-align: right;\">\n",
       "      <th></th>\n",
       "      <th>Hora</th>\n",
       "      <th>Nombre completo del usuario</th>\n",
       "      <th>Usuario afectado</th>\n",
       "      <th>Contexto del evento</th>\n",
       "      <th>Componente</th>\n",
       "      <th>Nombre evento</th>\n",
       "      <th>Descripción</th>\n",
       "      <th>Dirección IP</th>\n",
       "    </tr>\n",
       "    <tr>\n",
       "      <th>Origen</th>\n",
       "      <th></th>\n",
       "      <th></th>\n",
       "      <th></th>\n",
       "      <th></th>\n",
       "      <th></th>\n",
       "      <th></th>\n",
       "      <th></th>\n",
       "      <th></th>\n",
       "    </tr>\n",
       "  </thead>\n",
       "  <tbody>\n",
       "    <tr>\n",
       "      <th>web</th>\n",
       "      <td>9099</td>\n",
       "      <td>9099</td>\n",
       "      <td>9099</td>\n",
       "      <td>9099</td>\n",
       "      <td>9099</td>\n",
       "      <td>9099</td>\n",
       "      <td>9099</td>\n",
       "      <td>9099</td>\n",
       "    </tr>\n",
       "    <tr>\n",
       "      <th>ws</th>\n",
       "      <td>1331</td>\n",
       "      <td>1331</td>\n",
       "      <td>1331</td>\n",
       "      <td>1331</td>\n",
       "      <td>1331</td>\n",
       "      <td>1331</td>\n",
       "      <td>1331</td>\n",
       "      <td>1331</td>\n",
       "    </tr>\n",
       "  </tbody>\n",
       "</table>\n",
       "</div>"
      ],
      "text/plain": [
       "        Hora  Nombre completo del usuario  Usuario afectado  \\\n",
       "Origen                                                        \n",
       "web     9099                         9099              9099   \n",
       "ws      1331                         1331              1331   \n",
       "\n",
       "        Contexto del evento  Componente  Nombre evento  Descripción  \\\n",
       "Origen                                                                \n",
       "web                    9099        9099           9099         9099   \n",
       "ws                     1331        1331           1331         1331   \n",
       "\n",
       "        Dirección IP  \n",
       "Origen                \n",
       "web             9099  \n",
       "ws              1331  "
      ]
     },
     "execution_count": 13,
     "metadata": {},
     "output_type": "execute_result"
    }
   ],
   "source": [
    "\n",
    "dd = df.groupby(df.Origen)\n",
    "dd.count()\n"
   ]
  },
  {
   "cell_type": "code",
   "execution_count": 27,
   "id": "aae2cbb6-71cf-4ace-be9f-a8012b2dcee3",
   "metadata": {},
   "outputs": [
    {
     "data": {
      "text/html": [
       "<div>\n",
       "<style scoped>\n",
       "    .dataframe tbody tr th:only-of-type {\n",
       "        vertical-align: middle;\n",
       "    }\n",
       "\n",
       "    .dataframe tbody tr th {\n",
       "        vertical-align: top;\n",
       "    }\n",
       "\n",
       "    .dataframe thead th {\n",
       "        text-align: right;\n",
       "    }\n",
       "</style>\n",
       "<table border=\"1\" class=\"dataframe\">\n",
       "  <thead>\n",
       "    <tr style=\"text-align: right;\">\n",
       "      <th></th>\n",
       "      <th>year</th>\n",
       "      <th>month</th>\n",
       "      <th>day</th>\n",
       "      <th>hour</th>\n",
       "    </tr>\n",
       "    <tr>\n",
       "      <th>Origen</th>\n",
       "      <th></th>\n",
       "      <th></th>\n",
       "      <th></th>\n",
       "      <th></th>\n",
       "    </tr>\n",
       "  </thead>\n",
       "  <tbody>\n",
       "    <tr>\n",
       "      <th>web</th>\n",
       "      <td>2021.0</td>\n",
       "      <td>5.671063</td>\n",
       "      <td>17.767777</td>\n",
       "      <td>13.345423</td>\n",
       "    </tr>\n",
       "    <tr>\n",
       "      <th>ws</th>\n",
       "      <td>2021.0</td>\n",
       "      <td>5.760331</td>\n",
       "      <td>18.143501</td>\n",
       "      <td>17.317055</td>\n",
       "    </tr>\n",
       "  </tbody>\n",
       "</table>\n",
       "</div>"
      ],
      "text/plain": [
       "          year     month        day       hour\n",
       "Origen                                        \n",
       "web     2021.0  5.671063  17.767777  13.345423\n",
       "ws      2021.0  5.760331  18.143501  17.317055"
      ]
     },
     "execution_count": 27,
     "metadata": {},
     "output_type": "execute_result"
    }
   ],
   "source": [
    "dd.mean()"
   ]
  },
  {
   "cell_type": "code",
   "execution_count": null,
   "id": "e42d42c9-a923-437f-8af8-843431c5b3fe",
   "metadata": {},
   "outputs": [],
   "source": []
  },
  {
   "cell_type": "code",
   "execution_count": null,
   "id": "0636df63-aa7f-49c3-863d-d61d59c23e7e",
   "metadata": {},
   "outputs": [],
   "source": [
    "\n"
   ]
  },
  {
   "cell_type": "code",
   "execution_count": null,
   "id": "166f43df-76c7-4aa7-9f2a-e98656ce960e",
   "metadata": {},
   "outputs": [],
   "source": []
  }
 ],
 "metadata": {
  "kernelspec": {
   "display_name": "Python 3",
   "language": "python",
   "name": "python3"
  },
  "language_info": {
   "codemirror_mode": {
    "name": "ipython",
    "version": 3
   },
   "file_extension": ".py",
   "mimetype": "text/x-python",
   "name": "python",
   "nbconvert_exporter": "python",
   "pygments_lexer": "ipython3",
   "version": "3.9.5"
  }
 },
 "nbformat": 4,
 "nbformat_minor": 5
}
